{
 "cells": [
  {
   "cell_type": "markdown",
   "metadata": {},
   "source": [
    "# Investigating propagation of errors\n",
    "\n",
    "This notebook was made to investigate the propagation of errors formula.\n",
    "We imagine that we have a function $q(x,y)$ and we want to propagate the\n",
    "uncertainty on $x$ and $y$ (denoted $\\sigma_x$ and $\\sigma_y$, respectively) through to the quantity $q$.\n",
    "\n",
    "The most straight forward way to do this is just randomly sample $x$ and $y$, evaluate $q$ and look at it's distribution. This is really the definition of what we mean by propagation of uncertianty. It's very easy to do with some simply python code.\n",
    "\n",
    "The calculus formula for the propagation of errors is really an approximation. This is the formula for a general $q(x,y)$\n",
    "\\begin{equation}\n",
    "\\sigma_q^2 = \\left( \\frac{\\partial q}{\\partial x} \\sigma_x \\right)^2 + \\left( \\frac{\\partial q}{\\partial y}\\sigma_y \\right)^2\n",
    "\\end{equation}\n",
    "\n",
    "In the special case of addition  $q(x,y) = x\\pm y$ we have $\\sigma_q^2 = \\sigma_x^2 + \\sigma_y^2$.\n",
    "\n",
    "In the special case of multiplication $q(x,y) = x y$ and division $q(x,y) = x / y$ we have $(\\sigma_q/q)^2 = (\\sigma_x/x)^2 + (\\sigma_y/y)^2$, which we can rewrite as $\\sigma_q = (x/y) \\sqrt{(\\sigma_x/x)^2 + (\\sigma_y/y)^2}$\n",
    "\n",
    "Let's try out these formulas and compare the direct approach of making the distribution to the prediction from these formulas"
   ]
  },
  {
   "cell_type": "code",
   "execution_count": 1,
   "metadata": {},
   "outputs": [],
   "source": [
    "#%pylab inline --no-import-all"
   ]
  },
  {
   "cell_type": "code",
   "execution_count": 2,
   "metadata": {},
   "outputs": [],
   "source": [
    "import numpy as np\n",
    "import matplotlib.pyplot as plt\n",
    "import scipy.stats as scs"
   ]
  },
  {
   "cell_type": "code",
   "execution_count": 3,
   "metadata": {},
   "outputs": [],
   "source": [
    "from ipywidgets import widgets  \n",
    "from ipywidgets import interact, interactive, fixed"
   ]
  },
  {
   "cell_type": "markdown",
   "metadata": {},
   "source": [
    "## Setup repeated observations of two variables x, y"
   ]
  },
  {
   "cell_type": "code",
   "execution_count": 4,
   "metadata": {},
   "outputs": [],
   "source": [
    "mean_x = .8\n",
    "std_x = .15\n",
    "mean_y = 3.\n",
    "std_y = .9\n",
    "N = 1000\n",
    "x = np.random.normal(mean_x, std_x, N)\n",
    "y = np.random.normal(mean_y, std_y, N)"
   ]
  },
  {
   "cell_type": "markdown",
   "metadata": {},
   "source": [
    "## Check propagation of errors under addition "
   ]
  },
  {
   "cell_type": "code",
   "execution_count": 5,
   "metadata": {},
   "outputs": [
    {
     "data": {
      "text/plain": [
       "Text(0, 0.5, 'p(x)')"
      ]
     },
     "execution_count": 5,
     "metadata": {},
     "output_type": "execute_result"
    },
    {
     "data": {
      "image/png": "[encoded data removed]",
      "text/plain": [
       "<Figure size 432x288 with 1 Axes>"
      ]
     },
     "metadata": {
      "needs_background": "light"
     },
     "output_type": "display_data"
    }
   ],
   "source": [
    "x = np.random.normal(mean_x, std_x, N)\n",
    "y = np.random.normal(mean_y, std_y, N)\n",
    "\n",
    "q_of_x_y = x+y\n",
    "\n",
    "pred_mean_q = mean_x+mean_y\n",
    "pred_std_q = np.sqrt(std_x**2+std_y**2)\n",
    "\n",
    "counts, bins, patches = plt.hist(q_of_x_y, \n",
    "                                 bins=np.linspace(pred_mean_q-3*pred_std_q,pred_mean_q+3*pred_std_q,30), \n",
    "                                 density=True, alpha=0.3)\n",
    "\n",
    "plt.plot(bins, scs.norm.pdf(bins, pred_mean_q, pred_std_q), c='r', lw=2)\n",
    "plt.legend(('pred','hist'))\n",
    "plt.xlabel('q(x)')\n",
    "plt.ylabel('p(x)')"
   ]
  },
  {
   "cell_type": "markdown",
   "metadata": {},
   "source": [
    "### same thing with an interactive widget"
   ]
  },
  {
   "cell_type": "code",
   "execution_count": 6,
   "metadata": {},
   "outputs": [
    {
     "data": {
      "application/vnd.jupyter.widget-view+json": {
       "model_id": "700be3b4a566432aba48aa19c1f36233",
       "version_major": 2,
       "version_minor": 0
      },
      "text/plain": [
       "interactive(children=(FloatSlider(value=1.5, description='mean_x', max=3.0), FloatSlider(value=1.0, descriptio…"
      ]
     },
     "metadata": {},
     "output_type": "display_data"
    },
    {
     "data": {
      "text/plain": [
       "<function __main__.plot_x_plus_y(mean_x, std_x, mean_y, std_y, N)>"
      ]
     },
     "execution_count": 6,
     "metadata": {},
     "output_type": "execute_result"
    }
   ],
   "source": [
    "def plot_x_plus_y(mean_x, std_x, mean_y, std_y, N):\n",
    "    x = np.random.normal(mean_x, std_x, N)\n",
    "    y = np.random.normal(mean_y, std_y, N)\n",
    "\n",
    "    q_of_x_y = x+y\n",
    "\n",
    "    pred_mean_q = mean_x+mean_y\n",
    "    pred_std_q = np.sqrt(std_x**2+std_y**2)\n",
    "\n",
    "    counts, bins, patches = plt.hist(q_of_x_y, \n",
    "                                     bins=np.linspace(pred_mean_q-3*pred_std_q,pred_mean_q+3*pred_std_q,30), \n",
    "                                     density=True, alpha=0.3)\n",
    "\n",
    "    plt.plot(bins, scs.norm.pdf(bins, pred_mean_q, pred_std_q), c='r', lw=2)\n",
    "    plt.legend(('pred','hist'))\n",
    "    plt.xlabel('q(x)')\n",
    "    plt.ylabel('p(x)')\n",
    "\n",
    "\n",
    "# now make the interactive widget\n",
    "interact(plot_x_plus_y,\n",
    "         mean_x=(0.,3.,.1), std_x=(.0, 2., .1), \n",
    "         mean_y=(0.,3.,.1), std_y=(.0, 2., .1),\n",
    "         N=(0,10000,1000))"
   ]
  },
  {
   "cell_type": "markdown",
   "metadata": {},
   "source": [
    "## Single variable example: division\n",
    "\n",
    "As a warm up, let's consider $q(x) = 1/x$"
   ]
  },
  {
   "cell_type": "code",
   "execution_count": 7,
   "metadata": {},
   "outputs": [
    {
     "data": {
      "text/plain": [
       "Text(0, 0.5, 'q(x)')"
      ]
     },
     "execution_count": 7,
     "metadata": {},
     "output_type": "execute_result"
    },
    {
     "data": {
      "image/png": "[encoded data removed]",
      "text/plain": [
       "<Figure size 432x288 with 1 Axes>"
      ]
     },
     "metadata": {
      "needs_background": "light"
     },
     "output_type": "display_data"
    }
   ],
   "source": [
    "counts, bins, patches = plt.hist(x, bins=50, density=True, alpha=0.3)\n",
    "gaus_x = scs.norm.pdf(bins, mean_x,std_x)\n",
    "\n",
    "q_for_plot = 1./bins\n",
    "\n",
    "plt.plot(bins, gaus_x, lw=2)\n",
    "plt.plot(bins, q_for_plot, lw=2)\n",
    "\n",
    "plt.xlabel('x')\n",
    "plt.ylabel('q(x)')"
   ]
  },
  {
   "cell_type": "code",
   "execution_count": 9,
   "metadata": {},
   "outputs": [
    {
     "data": {
      "text/plain": [
       "Text(0, 0.5, 'p(x)')"
      ]
     },
     "execution_count": 9,
     "metadata": {},
     "output_type": "execute_result"
    },
    {
     "data": {
      "image/png": "[encoded data removed]",
      "text/plain": [
       "<Figure size 432x288 with 1 Axes>"
      ]
     },
     "metadata": {
      "needs_background": "light"
     },
     "output_type": "display_data"
    }
   ],
   "source": [
    "plt.xlabel('x')\n",
    "\n",
    "q_of_x = 1./x\n",
    "\n",
    "pred_mean_q = 1./mean_x\n",
    "pred_std_q = np.sqrt((std_x/mean_x)**2)/mean_x\n",
    "\n",
    "counts, bins, patches = plt.hist(q_of_x, bins=50, density=True, alpha=0.3)\n",
    "\n",
    "plt.plot(bins, scs.norm.pdf(bins, pred_mean_q, pred_std_q), c='r', lw=2)\n",
    "plt.legend(('pred','hist'))\n",
    "plt.xlabel('x')\n",
    "plt.ylabel('p(x)')"
   ]
  },
  {
   "cell_type": "markdown",
   "metadata": {},
   "source": [
    "### Now let's do the same thing with an interactive widget!"
   ]
  },
  {
   "cell_type": "code",
   "execution_count": 10,
   "metadata": {},
   "outputs": [],
   "source": [
    "def plot_1_over_x(mean_x, std_x, N):\n",
    "    x = np.random.normal(mean_x, std_x, N)\n",
    "\n",
    "    q_of_x = 1./x\n",
    "\n",
    "    pred_mean_q = 1./mean_x\n",
    "    pred_std_q = np.sqrt((std_x/mean_x)**2)/mean_x\n",
    "\n",
    "    counts, bins, patches = plt.hist(q_of_x, \n",
    "                                     bins=np.linspace(pred_mean_q-3*pred_std_q,pred_mean_q+3*pred_std_q,30), \n",
    "                                     density=True, alpha=0.3)\n",
    "\n",
    "    plt.plot(bins, scs.norm.pdf(bins, pred_mean_q, pred_std_q), c='r', lw=2)\n",
    "    plt.legend(('pred','hist'))\n",
    "    plt.xlabel('q(x)')\n",
    "    plt.ylabel('p(x)')"
   ]
  },
  {
   "cell_type": "code",
   "execution_count": 11,
   "metadata": {},
   "outputs": [
    {
     "data": {
      "application/vnd.jupyter.widget-view+json": {
       "model_id": "09cc77921c8f4f4287866c77cc69629a",
       "version_major": 2,
       "version_minor": 0
      },
      "text/plain": [
       "interactive(children=(FloatSlider(value=1.5, description='mean_x', max=3.0), FloatSlider(value=1.0, descriptio…"
      ]
     },
     "metadata": {},
     "output_type": "display_data"
    },
    {
     "data": {
      "text/plain": [
       "<function __main__.plot_1_over_x(mean_x, std_x, N)>"
      ]
     },
     "execution_count": 11,
     "metadata": {},
     "output_type": "execute_result"
    }
   ],
   "source": [
    "# now make the interactive widget\n",
    "interact(plot_1_over_x,mean_x=(0.,3.,.1), std_x=(.0, 2., .1), N=(0,10000,1000))"
   ]
  },
  {
   "cell_type": "markdown",
   "metadata": {},
   "source": [
    "### Check propagation of errors under division "
   ]
  },
  {
   "cell_type": "code",
   "execution_count": 12,
   "metadata": {},
   "outputs": [
    {
     "data": {
      "application/vnd.jupyter.widget-view+json": {
       "model_id": "b158140c73a74d55947cdef181af2f8c",
       "version_major": 2,
       "version_minor": 0
      },
      "text/plain": [
       "interactive(children=(FloatSlider(value=1.5, description='mean_x', max=3.0), FloatSlider(value=1.0, descriptio…"
      ]
     },
     "metadata": {},
     "output_type": "display_data"
    },
    {
     "data": {
      "text/plain": [
       "<function __main__.plot_x_over_y(mean_x, std_x, mean_y, std_y, N)>"
      ]
     },
     "execution_count": 12,
     "metadata": {},
     "output_type": "execute_result"
    }
   ],
   "source": [
    "def plot_x_over_y(mean_x, std_x, mean_y, std_y, N):\n",
    "    x = np.random.normal(mean_x, std_x, N)\n",
    "    y = np.random.normal(mean_y, std_y, N)\n",
    "\n",
    "    q_of_x_y = x/y\n",
    "\n",
    "    pred_mean_q = mean_x/mean_y\n",
    "    pred_std_q = np.sqrt((std_x/mean_x)**2+(std_y/mean_y)**2)*mean_x/mean_y\n",
    "\n",
    "    counts, bins, patches = plt.hist(q_of_x_y, \n",
    "                                     bins=np.linspace(pred_mean_q-3*pred_std_q,pred_mean_q+3*pred_std_q,30), \n",
    "                                     density=True, alpha=0.3)\n",
    "\n",
    "\n",
    "    plt.plot(bins, scs.norm.pdf(bins, pred_mean_q, pred_std_q), c='r', lw=2)\n",
    "    plt.legend(('pred','hist'))\n",
    "    plt.xlabel('q(x)')\n",
    "    plt.ylabel('p(x)')\n",
    "\n",
    "\n",
    "\n",
    "interact(plot_x_over_y,mean_x=(0.,3.,.1), std_x=(.0, 2., .1), mean_y=(0.,3.,.1), std_y=(.0, 2., .1),N=(0,100000,1000))"
   ]
  },
  {
   "cell_type": "code",
   "execution_count": null,
   "metadata": {},
   "outputs": [],
   "source": []
  },
  {
   "cell_type": "code",
   "execution_count": null,
   "metadata": {},
   "outputs": [],
   "source": []
  },
  {
   "cell_type": "code",
   "execution_count": null,
   "metadata": {},
   "outputs": [],
   "source": []
  },
  {
   "cell_type": "code",
   "execution_count": null,
   "metadata": {},
   "outputs": [],
   "source": []
  }
 ],
 "metadata": {
  "kernelspec": {
   "display_name": "Python 3",
   "language": "python",
   "name": "python3"
  },
  "language_info": {
   "codemirror_mode": {
    "name": "ipython",
    "version": 3
   },
   "file_extension": ".py",
   "mimetype": "text/x-python",
   "name": "python",
   "nbconvert_exporter": "python",
   "pygments_lexer": "ipython3",
   "version": "3.8.5"
  }
 },
 "nbformat": 4,
 "nbformat_minor": 1
}
