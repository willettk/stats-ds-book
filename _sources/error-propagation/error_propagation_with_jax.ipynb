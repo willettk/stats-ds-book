{
 "cells": [
  {
   "cell_type": "markdown",
   "metadata": {},
   "source": [
    "# Revisiting error propagation with automatic differentiation\n",
    "\n",
    "By Kyle Cranmer, March 2, 2020\n",
    "\n",
    "This notebook is dedicated to Feeman Dyson, who died on February 28, 2020 in Princeton, NJ at the age of 96.\n",
    "\n",
    "“New directions in science are launched by new tools much more often than by new concepts. The effect of a concept-driven revolution is to explain old things in new ways. The effect of a tool-driven revolution is to discover new things that have to be explained.”\n",
    "\n",
    "-- Freeman Dyson\n",
    "\n",
    "![](https://www.ias.edu/sites/default/files/styles/grid_feature_teaser/public/Dyson_Freeman_Dyson_20151016_DKomoda-5376%20%281200%29.jpg?itok=oGwqWjL8![image.png](attachment:image.png))"
   ]
  },
  {
   "cell_type": "markdown",
   "metadata": {},
   "source": [
    "## Reminder of propagation of errors \n",
    "\n",
    "This notebook was made to investigate the propagation of errors formula.\n",
    "We imagine that we have a function $q(x,y)$ and we want to propagate the\n",
    "uncertainty on $x$ and $y$ (denoted $\\sigma_x$ and $\\sigma_y$, respectively) through to the quantity $q$.\n",
    "\n",
    "The most straight forward way to do this is just randomly sample $x$ and $y$, evaluate $q$ and look at it's distribution. This is really the definition of what we mean by propagation of uncertianty. It's very easy to do with some simply python code.\n",
    "\n",
    "The calculus formula for the propagation of errors is really an approximation. This is the formula for a general $q(x,y)$\n",
    "\\begin{equation}\n",
    "\\sigma_q^2 = \\left( \\frac{\\partial q}{\\partial x} \\sigma_x \\right)^2 + \\left( \\frac{\\partial q}{\\partial y}\\sigma_y \\right)^2\n",
    "\\end{equation}\n",
    "\n",
    "In the special case of addition  $q(x,y) = x\\pm y$ we have $\\sigma_q^2 = \\sigma_x^2 + \\sigma_y^2$.\n",
    "\n",
    "In the special case of multiplication $q(x,y) = x y$ and division $q(x,y) = x / y$ we have $(\\sigma_q/q)^2 = (\\sigma_x/x)^2 + (\\sigma_y/y)^2$, which we can rewrite as $\\sigma_q = (x/y) \\sqrt{(\\sigma_x/x)^2 + (\\sigma_y/y)^2}$\n",
    "\n",
    "Let's try out these formulas and compare the direct approach of making the distribution to the prediction from these formulas"
   ]
  },
  {
   "cell_type": "markdown",
   "metadata": {},
   "source": [
    "## Automatic Differentiation\n",
    "\n",
    "\n",
    "\n",
    "Excerpts from the Wikipedia article: https://en.wikipedia.org/wiki/Automatic_differentiation\n",
    "\n",
    "In mathematics and computer algebra, automatic differentiation (AD), also called algorithmic differentiation or computational differentiation,[1][2] is a set of techniques to numerically evaluate the derivative of a function specified by a computer program. AD exploits the fact that every computer program, no matter how complicated, executes a sequence of elementary arithmetic operations (addition, subtraction, multiplication, division, etc.) and elementary functions (exp, log, sin, cos, etc.). By applying the chain rule repeatedly to these operations, derivatives of arbitrary order can be computed automatically, accurately to working precision, and using at most a small constant factor more arithmetic operations than the original program.\n",
    "\n",
    "![](https://upload.wikimedia.org/wikipedia/commons/thumb/3/3c/AutomaticDifferentiationNutshell.png/600px-AutomaticDifferentiationNutshell.png)\n",
    "\n",
    "Usually, two distinct modes of AD are presented, forward accumulation (or forward mode) and reverse accumulation (or reverse mode). Forward accumulation specifies that one traverses the chain rule from inside to outside (that is, first compute \n",
    "${\\displaystyle dw_{1}/dx}$ and then \n",
    "${\\displaystyle dw_{2}/dw_{1}}$ and at last \n",
    "${\\displaystyle dy/dw_{2}})$, while reverse accumulation has the traversal from outside to inside (first compute \n",
    "${\\displaystyle dy/dw_{2}}$ and then \n",
    "${\\displaystyle dw_{2}/dw_{1}}$ and at last \n",
    "${\\displaystyle dw_{1}/dx})$. More succinctly,\n",
    "\n",
    " * forward accumulation computes the recursive relation: \n",
    "${\\displaystyle {\\frac {dw_{i}}{dx}}={\\frac {dw_{i}}{dw_{i-1}}}{\\frac {dw_{i-1}}{dx}}}$ with \n",
    "${\\displaystyle w_{3}=y}$, and,\n",
    "\n",
    " * reverse accumulation computes the recursive relation: \n",
    "${\\displaystyle {\\frac {dy}{dw_{i}}}={\\frac {dy}{dw_{i+1}}}{\\frac {dw_{i+1}}{dw_{i}}}}$ with \n",
    "${\\displaystyle w_{0}=x}$.\n",
    "\n",
    "<!--\n",
    "\n",
    "\n",
    "Fundamental to AD is the decomposition of differentials provided by the chain rule. For the simple composition\n",
    "\n",
    "\n",
    "\\begin{equation}\n",
    "{\\displaystyle {\\begin{aligned}y&=f(g(h(x)))=f(g(h(w_{0})))=f(g(w_{1}))=f(w_{2})=w_{3}\\\\w_{0}&=x\\\\w_{1}&=h(w_{0})\\\\w_{2}&=g(w_{1})\\\\w_{3}&=f(w_{2})=y\\end{aligned}}}\n",
    "\\end{equation}\n",
    "the chain rule gives\n",
    "\n",
    "\\begin{equation}\n",
    "{\\displaystyle {\\frac {dy}{dx}}={\\frac {dy}{dw_{2}}}{\\frac {dw_{2}}{dw_{1}}}{\\frac {dw_{1}}{dx}}}\n",
    "\\end{equation}\n",
    "Usually, two distinct modes of AD are presented, forward accumulation (or forward mode) and reverse accumulation (or reverse mode). Forward accumulation specifies that one traverses the chain rule from inside to outside (that is, first compute ${\\displaystyle dw_{1}/dx}$ and then \n",
    "${\\displaystyle dw_{2}/dw_{1}}$ and at last \n",
    "${\\displaystyle dy/dw_{2}})$, while reverse accumulation has the traversal from outside to inside (first compute \n",
    "${\\displaystyle dy/dw_{2}}$ and then \n",
    "${\\displaystyle dw_{2}/dw_{1}}$ and at last \n",
    "${\\displaystyle dw_{1}/dx})$. More succinctly,\n",
    "forward accumulation computes the recursive relation: \n",
    "\n",
    "\\begin{equation}\n",
    "{\\displaystyle {\\frac {dw_{i}}{dx}}={\\frac {dw_{i}}{dw_{i-1}}}{\\frac {dw_{i-1}}{dx}}} \n",
    "\\end{equation}\n",
    "with \n",
    "${\\displaystyle w_{3}=y}$, and,\n",
    "reverse accumulation computes the recursive relation: \n",
    "\n",
    "\\begin{equation}\n",
    "{\\displaystyle {\\frac {dy}{dw_{i}}}={\\frac {dy}{dw_{i+1}}}{\\frac {dw_{i+1}}{dw_{i}}}}\n",
    "\\end{equation}\n",
    "with ${\\displaystyle w_{0}=x}$.\n",
    "Generally, both forward and reverse accumulation are specific manifestations of applying the operator of program composition, fixing the appropriate one of the two mappings \n",
    "\n",
    "\\begin{equation}\n",
    "{\\displaystyle (w,y)}.\n",
    "\\end{equation}\n",
    "\n",
    "### Forward mode\n",
    "\n",
    "![](https://upload.wikimedia.org/wikipedia/commons/thumb/a/a4/ForwardAccumulationAutomaticDifferentiation.png/600px-ForwardAccumulationAutomaticDifferentiation.png)\n",
    "\n",
    "In forward accumulation AD, one first fixes the independent variable with respect to which differentiation is performed and computes the derivative of each sub-expression recursively. In a pen-and-paper calculation, this involves repeatedly substituting the derivative of the inner functions in the chain rule:\n",
    "\n",
    "\\begin{equation}\n",
    "{\\displaystyle {\\frac {\\partial y}{\\partial x}}={\\frac {\\partial y}{\\partial w_{n-1}}}{\\frac {\\partial w_{n-1}}{\\partial x}}={\\frac {\\partial y}{\\partial w_{n-1}}}\\left({\\frac {\\partial w_{n-1}}{\\partial w_{n-2}}}{\\frac {\\partial w_{n-2}}{\\partial x}}\\right)={\\frac {\\partial y}{\\partial w_{n-1}}}\\left({\\frac {\\partial w_{n-1}}{\\partial w_{n-2}}}\\left({\\frac {\\partial w_{n-2}}{\\partial w_{n-3}}}{\\frac {\\partial w_{n-3}}{\\partial x}}\\right)\\right)=\\cdots }\n",
    "\\end{equation}\n",
    "This can be generalized to multiple variables as a matrix product of Jacobians.\n",
    "\n",
    "\n",
    "### Reverse mode\n",
    "\n",
    "![](https://upload.wikimedia.org/wikipedia/commons/thumb/a/a0/ReverseaccumulationAD.png/600px-ReverseaccumulationAD.png)\n",
    "\n",
    "In reverse accumulation AD, the dependent variable to be differentiated is fixed and the derivative is computed with respect to each sub-expression recursively. In a pen-and-paper calculation, the derivative of the outer functions is repeatedly substituted in the chain rule:\n",
    "\n",
    "\\begin{equation}\n",
    "{\\frac  {\\partial y}{\\partial x}}={\\frac  {\\partial y}{\\partial w_{1}}}{\\frac  {\\partial w_{1}}{\\partial x}}=\\left({\\frac  {\\partial y}{\\partial w_{2}}}{\\frac  {\\partial w_{2}}{\\partial w_{1}}}\\right){\\frac  {\\partial w_{1}}{\\partial x}}=\\left(\\left({\\frac  {\\partial y}{\\partial w_{3}}}{\\frac  {\\partial w_{3}}{\\partial w_{2}}}\\right){\\frac  {\\partial w_{2}}{\\partial w_{1}}}\\right){\\frac  {\\partial w_{1}}{\\partial x}}=\\cdots \n",
    "\\end{equation}\n",
    "\n",
    "-->\n",
    "\n",
    "\n",
    "We will use \n",
    "https://jax.readthedocs.io/en/latest/notebooks/autodiff_cookbook.html"
   ]
  },
  {
   "cell_type": "code",
   "execution_count": 1,
   "metadata": {},
   "outputs": [],
   "source": [
    "from jax import grad, jacfwd\n",
    "import jax.numpy as np"
   ]
  },
  {
   "cell_type": "markdown",
   "metadata": {},
   "source": [
    "Now here are 3 lines of code for the propagation of uncertainty formula\n",
    "\n",
    "\\begin{equation}\n",
    "\\sigma_q = \\sqrt{\\left( \\frac{\\partial q}{\\partial x} \\sigma_x \\right)^2 + \\left( \\frac{\\partial q}{\\partial y}\\sigma_y \\right)^2}\n",
    "\\end{equation}"
   ]
  },
  {
   "cell_type": "code",
   "execution_count": 2,
   "metadata": {},
   "outputs": [],
   "source": [
    "def error_prop_jax_gen(q,x,dx):\n",
    "    jac = jacfwd(q)\n",
    "    return np.sqrt(np.sum(np.power(jac(x)*dx,2)))"
   ]
  },
  {
   "cell_type": "markdown",
   "metadata": {},
   "source": [
    "## Setup two observations with uncertainties\n",
    "\n",
    "Below I'll use $x$ and $y$ for symbols, but they will be stored in the array `x` so that `x[0]=`$x$ and `x[1]=$y$."
   ]
  },
  {
   "cell_type": "code",
   "execution_count": 3,
   "metadata": {},
   "outputs": [
    {
     "name": "stderr",
     "output_type": "stream",
     "text": [
      "/Users/cranmer/anaconda3/envs/jax-md/lib/python3.6/site-packages/jax/lib/xla_bridge.py:120: UserWarning: No GPU/TPU found, falling back to CPU.\n",
      "  warnings.warn('No GPU/TPU found, falling back to CPU.')\n"
     ]
    }
   ],
   "source": [
    "x_ = np.array([2.,3.])\n",
    "dx_ = np.array([.1,.1])"
   ]
  },
  {
   "cell_type": "markdown",
   "metadata": {},
   "source": [
    "## Addition and Subtraction\n",
    "\n",
    "\n",
    "In the special case of addition  $q(x,y) = x\\pm y$ we have $\\sigma_q^2 = \\sigma_x^2 + \\sigma_y^2$.\n"
   ]
  },
  {
   "cell_type": "code",
   "execution_count": 4,
   "metadata": {},
   "outputs": [],
   "source": [
    "def q(x):\n",
    "    return x[0]+x[1]"
   ]
  },
  {
   "cell_type": "code",
   "execution_count": 5,
   "metadata": {},
   "outputs": [],
   "source": [
    "def error_prop_classic(x, dx):\n",
    "    # for q = x[0]*x[1]\n",
    "    ret = dx[0]**2 + dx[1]**2\n",
    "    return np.sqrt(ret)"
   ]
  },
  {
   "cell_type": "code",
   "execution_count": 6,
   "metadata": {},
   "outputs": [
    {
     "name": "stdout",
     "output_type": "stream",
     "text": [
      "q =  5.0 +/- 0.14142136\n"
     ]
    }
   ],
   "source": [
    "print('q = ', q(x_), '+/-', error_prop_classic(x_, dx_))"
   ]
  },
  {
   "cell_type": "code",
   "execution_count": 7,
   "metadata": {},
   "outputs": [
    {
     "name": "stdout",
     "output_type": "stream",
     "text": [
      "q =  5.0 +/- 0.14142136\n"
     ]
    }
   ],
   "source": [
    "print('q = ', q(x_), '+/-', error_prop_jax_gen(q, x_, dx_))"
   ]
  },
  {
   "cell_type": "markdown",
   "metadata": {},
   "source": [
    "## Multiplication and Division\n",
    "\n",
    "In the special case of multiplication \n",
    "\\begin{equation}\n",
    "q(x,y) = x y\n",
    "\\end{equation}\n",
    "and division \n",
    "\\begin{equation}\n",
    "q(x,y) = \\frac{x}{y}\n",
    "\\end{equation}\n",
    "\n",
    "\\begin{equation}\n",
    "(\\sigma_q/q)^2 = (\\sigma_x/x)^2 + (\\sigma_y/y)^2\n",
    "\\end{equation}\n",
    "which we can rewrite as\n",
    "\\begin{equation}\n",
    "\\sigma_q = (x/y) \\sqrt{\\left(\\frac{\\sigma_x}{x}\\right)^2 + \\left(\\frac{\\sigma_y}{y}\\right)^2}\n",
    "\\end{equation}"
   ]
  },
  {
   "cell_type": "code",
   "execution_count": 8,
   "metadata": {},
   "outputs": [],
   "source": [
    "def q(x):\n",
    "    return x[0]*x[1]"
   ]
  },
  {
   "cell_type": "code",
   "execution_count": 9,
   "metadata": {},
   "outputs": [],
   "source": [
    "def error_prop_classic(x, dx):\n",
    "    # for q = x[0]*x[1]\n",
    "    ret = (dx[0]/x[0])**2 + (dx[1]/x[1])**2 \n",
    "    return (x[0]*x[1])*np.sqrt(ret)"
   ]
  },
  {
   "cell_type": "code",
   "execution_count": 10,
   "metadata": {},
   "outputs": [
    {
     "name": "stdout",
     "output_type": "stream",
     "text": [
      "q =  6.0 +/- 0.36055514\n"
     ]
    }
   ],
   "source": [
    "print('q = ', q(x_), '+/-', error_prop_classic(x_, dx_))"
   ]
  },
  {
   "cell_type": "code",
   "execution_count": 11,
   "metadata": {},
   "outputs": [
    {
     "name": "stdout",
     "output_type": "stream",
     "text": [
      "q =  6.0 +/- 0.36055514\n"
     ]
    }
   ],
   "source": [
    "print('q = ', q(x_), '+/-', error_prop_jax_gen(q, x_, dx_))"
   ]
  },
  {
   "cell_type": "code",
   "execution_count": 12,
   "metadata": {},
   "outputs": [],
   "source": [
    "def q(x):\n",
    "    return x[0]/x[1]"
   ]
  },
  {
   "cell_type": "code",
   "execution_count": 13,
   "metadata": {},
   "outputs": [],
   "source": [
    "def error_prop_classic(x, dx):\n",
    "    # for q = x[0]*x[1]\n",
    "    ret = (dx[0]/x[0])**2 + (dx[1]/x[1])**2 \n",
    "    return (x[0]/x[1])*np.sqrt(ret)"
   ]
  },
  {
   "cell_type": "code",
   "execution_count": 14,
   "metadata": {},
   "outputs": [
    {
     "name": "stdout",
     "output_type": "stream",
     "text": [
      "q =  0.6666667 +/- 0.040061682\n"
     ]
    }
   ],
   "source": [
    "print('q = ', q(x_), '+/-', error_prop_classic(x_, dx_))"
   ]
  },
  {
   "cell_type": "code",
   "execution_count": 15,
   "metadata": {},
   "outputs": [
    {
     "name": "stdout",
     "output_type": "stream",
     "text": [
      "q =  0.6666667 +/- 0.040061682\n"
     ]
    }
   ],
   "source": [
    "print('q = ', q(x_), '+/-', error_prop_jax_gen(q, x_, dx_))"
   ]
  },
  {
   "cell_type": "markdown",
   "metadata": {},
   "source": [
    "## Powers\n",
    "\n",
    "$q(x,y) = x^m y^n$ \n",
    "we have \n",
    "\n",
    "\\begin{equation}\n",
    "(\\sigma_q/q)^2 = \\left(|m|\\frac{\\sigma_x}{x}\\right)^2 + \\left(|n|\\frac{\\sigma_y}{y}\\right)^2\n",
    "\\end{equation}\n",
    "which we can rewrite as \n",
    "\\begin{equation}\n",
    "\\sigma_q = x^m y^n \\sqrt{\\left(|m|\\frac{\\sigma_x}{x}\\right)^2 + \\left(|n|\\frac{\\sigma_y}{y}\\right)^2}\n",
    "\\end{equation}\n"
   ]
  },
  {
   "cell_type": "code",
   "execution_count": 16,
   "metadata": {},
   "outputs": [],
   "source": [
    "def q(x, m=2, n=3):\n",
    "    return np.power(x[0],m)*np.power(x[1],n)"
   ]
  },
  {
   "cell_type": "code",
   "execution_count": 17,
   "metadata": {},
   "outputs": [
    {
     "data": {
      "text/plain": [
       "DeviceArray(35.15625, dtype=float32)"
      ]
     },
     "execution_count": 17,
     "metadata": {},
     "output_type": "execute_result"
    }
   ],
   "source": [
    "x_ = np.array([1.5, 2.5])\n",
    "dx_ = np.array([.1, .1])\n",
    "q(x_)"
   ]
  },
  {
   "cell_type": "code",
   "execution_count": 18,
   "metadata": {},
   "outputs": [],
   "source": [
    "def error_prop_classic(x, dx):\n",
    "    # for q = x[0]*x[1]\n",
    "    dq_ = q(x_)*np.sqrt(np.power(2*dx_[0]/x_[0],2)+np.power(3*dx_[1]/x_[1],2))\n",
    "    return dq_"
   ]
  },
  {
   "cell_type": "code",
   "execution_count": 19,
   "metadata": {},
   "outputs": [
    {
     "name": "stdout",
     "output_type": "stream",
     "text": [
      "q =  35.15625 +/- 6.3063865\n"
     ]
    }
   ],
   "source": [
    "print('q = ', q(x_), '+/-', error_prop_classic(x_, dx_))"
   ]
  },
  {
   "cell_type": "code",
   "execution_count": 20,
   "metadata": {},
   "outputs": [
    {
     "name": "stdout",
     "output_type": "stream",
     "text": [
      "q =  35.15625 +/- 6.3063865\n"
     ]
    }
   ],
   "source": [
    "print('q = ', q(x_), '+/-', error_prop_jax_gen(q, x_, dx_))"
   ]
  },
  {
   "cell_type": "markdown",
   "metadata": {},
   "source": [
    "## Misc Examples\n",
    "\n",
    "See some examples here:\n",
    "\n",
    "http://www.geol.lsu.edu/jlorenzo/geophysics/uncertainties/Uncertaintiespart2.html\n",
    "\n"
   ]
  },
  {
   "cell_type": "markdown",
   "metadata": {},
   "source": [
    "Example:  `w = (4.52 ± 0.02) cm, A = (2.0 ± 0.2), y = (3.0 ± 0.6) cm`. Find\n",
    "\n",
    "\\begin{equation}\n",
    "z=\\frac{wy^2}{\\sqrt{A}}\n",
    "\\end{equation}\n",
    "\n",
    "The second relative error, (Dy/y), is multiplied by 2 because the power of y is 2.  \n",
    "The third relative error, (DA/A), is multiplied by 0.5 since a square root is a power of one half.\n",
    "\n",
    "So Dz = 0.49 (28.638  ) = 14.03  which we round to 14 \n",
    "\n",
    "z = (29 ± 14) \n",
    "Using Eq. 3b, \n",
    "z=(29 ± 12) \n",
    "Because the uncertainty begins with a 1, we keep two significant figures and round the answer to match."
   ]
  },
  {
   "cell_type": "code",
   "execution_count": 21,
   "metadata": {},
   "outputs": [],
   "source": [
    "def q(x):\n",
    "    return x[0]*x[2]*x[2]/np.sqrt(x[1])"
   ]
  },
  {
   "cell_type": "code",
   "execution_count": 22,
   "metadata": {},
   "outputs": [
    {
     "name": "stdout",
     "output_type": "stream",
     "text": [
      "q =  28.765104 +/- 11.596283\n"
     ]
    }
   ],
   "source": [
    "x_ = np.array([4.52, 2., 3.]) #w,A,y\n",
    "dx_ = np.array([.02, .2, .6])\n",
    "\n",
    "print('q = ', q(x_), '+/-', error_prop_jax_gen(q, x_, dx_))"
   ]
  },
  {
   "cell_type": "markdown",
   "metadata": {},
   "source": [
    "### Check with a plot"
   ]
  },
  {
   "cell_type": "code",
   "execution_count": 23,
   "metadata": {},
   "outputs": [
    {
     "name": "stdout",
     "output_type": "stream",
     "text": [
      "mean = 30.050316 std =  11.813263\n"
     ]
    }
   ],
   "source": [
    "import numpy as onp  #using jax as np right now\n",
    "w_ = onp.random.normal(x_[0], dx_[0], 10000)\n",
    "A_ = onp.random.normal(x_[1], dx_[1], 10000)\n",
    "y_ = onp.random.normal(x_[2], dx_[2], 10000)\n",
    "x__ = np.vstack((w_, A_, y_))\n",
    "z_ = q(x__)\n",
    "print('mean =', np.mean(z_), 'std = ', np.std(z_))"
   ]
  },
  {
   "cell_type": "code",
   "execution_count": 24,
   "metadata": {},
   "outputs": [],
   "source": [
    "import matplotlib.pyplot as plt"
   ]
  },
  {
   "cell_type": "code",
   "execution_count": 25,
   "metadata": {},
   "outputs": [
    {
     "data": {
      "image/png": "[encoded data removed]",
      "text/plain": [
       "<Figure size 432x288 with 1 Axes>"
      ]
     },
     "metadata": {
      "needs_background": "light"
     },
     "output_type": "display_data"
    }
   ],
   "source": [
    "_ = plt.hist(z_, bins=50)"
   ]
  },
  {
   "cell_type": "markdown",
   "metadata": {},
   "source": [
    "## Example 2"
   ]
  },
  {
   "cell_type": "markdown",
   "metadata": {},
   "source": [
    "also taken from http://www.geol.lsu.edu/jlorenzo/geophysics/uncertainties/Uncertaintiespart2.html\n",
    "\n",
    "\n",
    "`w = (4.52 ± 0.02) cm, x = (2.0 ± 0.2) cm, y = (3.0 ± 0.6) cm. `\n",
    "\n",
    "Find \n",
    "\\begin{equation}\n",
    "z = w x +y^2\n",
    "\\end{equation}\n",
    "\n",
    "\n",
    "We have v = wx = (9.0 ± 0.9) cm.  \n",
    "The calculation of the uncertainty in  is the same as that shown to the left. Then from Eq. 1b \n",
    "Dz =  3.7  \n",
    "z = (18 ± 4) . "
   ]
  },
  {
   "cell_type": "code",
   "execution_count": 26,
   "metadata": {},
   "outputs": [],
   "source": [
    "def q(x):\n",
    "    # [w,x,y]\n",
    "    return x[0]*x[1]+x[2]*x[2]"
   ]
  },
  {
   "cell_type": "code",
   "execution_count": 27,
   "metadata": {},
   "outputs": [],
   "source": [
    "x_ = np.array([4.52, 2., 3.]) #w,x,y\n",
    "dx_ = np.array([.02, .2, .6])"
   ]
  },
  {
   "cell_type": "code",
   "execution_count": 28,
   "metadata": {},
   "outputs": [
    {
     "name": "stdout",
     "output_type": "stream",
     "text": [
      "18.04 +/- 3.711983\n"
     ]
    }
   ],
   "source": [
    "print(q(x_),'+/-', error_prop_jax_gen(q, x_, dx_))"
   ]
  },
  {
   "cell_type": "markdown",
   "metadata": {},
   "source": [
    "## An example with many inputs\n",
    "\n",
    "The code we used for `error_prop_jax_gen` is generic and supports functions `q` on any number of variables"
   ]
  },
  {
   "cell_type": "code",
   "execution_count": 29,
   "metadata": {},
   "outputs": [],
   "source": [
    "def q(x):\n",
    "    return np.sum(x)"
   ]
  },
  {
   "cell_type": "code",
   "execution_count": 30,
   "metadata": {},
   "outputs": [],
   "source": [
    "x_ = 1.*np.arange(1,101) #counts from 1-100 (and 1.* to make them floats)\n",
    "dx_ = 0.1*np.ones(100)"
   ]
  },
  {
   "cell_type": "markdown",
   "metadata": {},
   "source": [
    "The sum from $1 to N$ is $N*(N+1)/2$  (see [the story of Gauss](https://hsm.stackexchange.com/questions/384/did-gauss-find-the-formula-for-123-ldotsn-2n-1n-in-elementary-school)), so we expect q(x)=5050. And the uncertainty should be $\\sqrt{100}*0.1$ = 1."
   ]
  },
  {
   "cell_type": "code",
   "execution_count": 31,
   "metadata": {},
   "outputs": [
    {
     "name": "stdout",
     "output_type": "stream",
     "text": [
      "5050.0 +/- 1.0\n"
     ]
    }
   ],
   "source": [
    "print(q(x_),'+/-', error_prop_jax_gen(q, x_, dx_))"
   ]
  },
  {
   "cell_type": "markdown",
   "metadata": {},
   "source": [
    "another toy example... product from 1 to 10"
   ]
  },
  {
   "cell_type": "code",
   "execution_count": 32,
   "metadata": {},
   "outputs": [],
   "source": [
    "def q(x):\n",
    "    return np.product(x)"
   ]
  },
  {
   "cell_type": "code",
   "execution_count": 33,
   "metadata": {},
   "outputs": [
    {
     "name": "stdout",
     "output_type": "stream",
     "text": [
      "3628800.0 +/- 451748.1\n"
     ]
    }
   ],
   "source": [
    "x_ = 1.*np.arange(1,11) #counts from 1-100 (and 1.* to make them floats)\n",
    "dx_ = 0.1*np.ones(10)\n",
    "print(q(x_),'+/-', error_prop_jax_gen(q, x_, dx_))"
   ]
  },
  {
   "cell_type": "markdown",
   "metadata": {},
   "source": [
    "Checking this is an exercise left to the reader :-)"
   ]
  },
  {
   "cell_type": "code",
   "execution_count": null,
   "metadata": {},
   "outputs": [],
   "source": []
  }
 ],
 "metadata": {
  "kernelspec": {
   "display_name": "Python 3",
   "language": "python",
   "name": "python3"
  },
  "language_info": {
   "codemirror_mode": {
    "name": "ipython",
    "version": 3
   },
   "file_extension": ".py",
   "mimetype": "text/x-python",
   "name": "python",
   "nbconvert_exporter": "python",
   "pygments_lexer": "ipython3",
   "version": "3.8.5"
  }
 },
 "nbformat": 4,
 "nbformat_minor": 2
}
